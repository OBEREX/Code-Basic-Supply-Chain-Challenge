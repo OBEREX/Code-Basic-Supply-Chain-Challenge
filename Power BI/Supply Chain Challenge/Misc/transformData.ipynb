{
 "cells": [
  {
   "cell_type": "code",
   "execution_count": 1,
   "metadata": {},
   "outputs": [],
   "source": [
    "import pandas as pd\n",
    "import numpy as np"
   ]
  },
  {
   "cell_type": "code",
   "execution_count": 2,
   "metadata": {},
   "outputs": [],
   "source": [
    "data = pd.read_csv(\"fact_order_lines.csv\")\n",
    "data2 = pd.read_csv(\"dim_targets_orders.csv\")"
   ]
  },
  {
   "cell_type": "code",
   "execution_count": 3,
   "metadata": {},
   "outputs": [
    {
     "data": {
      "text/html": [
       "<div>\n",
       "<style scoped>\n",
       "    .dataframe tbody tr th:only-of-type {\n",
       "        vertical-align: middle;\n",
       "    }\n",
       "\n",
       "    .dataframe tbody tr th {\n",
       "        vertical-align: top;\n",
       "    }\n",
       "\n",
       "    .dataframe thead th {\n",
       "        text-align: right;\n",
       "    }\n",
       "</style>\n",
       "<table border=\"1\" class=\"dataframe\">\n",
       "  <thead>\n",
       "    <tr style=\"text-align: right;\">\n",
       "      <th></th>\n",
       "      <th>order_id</th>\n",
       "      <th>order_placement_date</th>\n",
       "      <th>customer_id</th>\n",
       "      <th>product_id</th>\n",
       "      <th>order_qty</th>\n",
       "      <th>agreed_delivery_date</th>\n",
       "      <th>actual_delivery_date</th>\n",
       "      <th>delivery_qty</th>\n",
       "      <th>In Full</th>\n",
       "      <th>On Time</th>\n",
       "      <th>On Time In Full</th>\n",
       "    </tr>\n",
       "  </thead>\n",
       "  <tbody>\n",
       "    <tr>\n",
       "      <th>0</th>\n",
       "      <td>FMR32603203</td>\n",
       "      <td>01-Mar-22</td>\n",
       "      <td>789603</td>\n",
       "      <td>25891203</td>\n",
       "      <td>460</td>\n",
       "      <td>02-Mar-22</td>\n",
       "      <td>03-Mar-22</td>\n",
       "      <td>460</td>\n",
       "      <td>1</td>\n",
       "      <td>0</td>\n",
       "      <td>1</td>\n",
       "    </tr>\n",
       "    <tr>\n",
       "      <th>1</th>\n",
       "      <td>FMR33401603</td>\n",
       "      <td>01-Mar-22</td>\n",
       "      <td>789401</td>\n",
       "      <td>25891203</td>\n",
       "      <td>429</td>\n",
       "      <td>03-Mar-22</td>\n",
       "      <td>03-Mar-22</td>\n",
       "      <td>429</td>\n",
       "      <td>1</td>\n",
       "      <td>1</td>\n",
       "      <td>1</td>\n",
       "    </tr>\n",
       "    <tr>\n",
       "      <th>2</th>\n",
       "      <td>FMR32320302</td>\n",
       "      <td>01-Mar-22</td>\n",
       "      <td>789320</td>\n",
       "      <td>25891203</td>\n",
       "      <td>347</td>\n",
       "      <td>02-Mar-22</td>\n",
       "      <td>02-Mar-22</td>\n",
       "      <td>347</td>\n",
       "      <td>1</td>\n",
       "      <td>1</td>\n",
       "      <td>1</td>\n",
       "    </tr>\n",
       "    <tr>\n",
       "      <th>3</th>\n",
       "      <td>FMR33320501</td>\n",
       "      <td>01-Mar-22</td>\n",
       "      <td>789320</td>\n",
       "      <td>25891203</td>\n",
       "      <td>187</td>\n",
       "      <td>03-Mar-22</td>\n",
       "      <td>03-Mar-22</td>\n",
       "      <td>150</td>\n",
       "      <td>0</td>\n",
       "      <td>1</td>\n",
       "      <td>0</td>\n",
       "    </tr>\n",
       "    <tr>\n",
       "      <th>4</th>\n",
       "      <td>FMR34220601</td>\n",
       "      <td>01-Mar-22</td>\n",
       "      <td>789220</td>\n",
       "      <td>25891203</td>\n",
       "      <td>235</td>\n",
       "      <td>04-Mar-22</td>\n",
       "      <td>04-Mar-22</td>\n",
       "      <td>235</td>\n",
       "      <td>1</td>\n",
       "      <td>1</td>\n",
       "      <td>1</td>\n",
       "    </tr>\n",
       "  </tbody>\n",
       "</table>\n",
       "</div>"
      ],
      "text/plain": [
       "      order_id order_placement_date  customer_id  product_id  order_qty  \\\n",
       "0  FMR32603203            01-Mar-22       789603    25891203        460   \n",
       "1  FMR33401603            01-Mar-22       789401    25891203        429   \n",
       "2  FMR32320302            01-Mar-22       789320    25891203        347   \n",
       "3  FMR33320501            01-Mar-22       789320    25891203        187   \n",
       "4  FMR34220601            01-Mar-22       789220    25891203        235   \n",
       "\n",
       "  agreed_delivery_date actual_delivery_date  delivery_qty  In Full  On Time  \\\n",
       "0            02-Mar-22            03-Mar-22           460        1        0   \n",
       "1            03-Mar-22            03-Mar-22           429        1        1   \n",
       "2            02-Mar-22            02-Mar-22           347        1        1   \n",
       "3            03-Mar-22            03-Mar-22           150        0        1   \n",
       "4            04-Mar-22            04-Mar-22           235        1        1   \n",
       "\n",
       "   On Time In Full  \n",
       "0                1  \n",
       "1                1  \n",
       "2                1  \n",
       "3                0  \n",
       "4                1  "
      ]
     },
     "execution_count": 3,
     "metadata": {},
     "output_type": "execute_result"
    }
   ],
   "source": [
    "data.head()"
   ]
  },
  {
   "cell_type": "code",
   "execution_count": 4,
   "metadata": {},
   "outputs": [
    {
     "data": {
      "text/plain": [
       "31729"
      ]
     },
     "execution_count": 4,
     "metadata": {},
     "output_type": "execute_result"
    }
   ],
   "source": [
    "data['order_id'].nunique()"
   ]
  },
  {
   "cell_type": "code",
   "execution_count": 5,
   "metadata": {},
   "outputs": [
    {
     "data": {
      "text/plain": [
       "FMR323221602     9\n",
       "FAUG812220603    9\n",
       "FAUG830903603    8\n",
       "FAUG815503603    8\n",
       "FJUL72221603     8\n",
       "                ..\n",
       "FMY518220202     1\n",
       "FMY518503202     1\n",
       "FMY517401202     1\n",
       "FMY517703202     1\n",
       "FAUG831202303    1\n",
       "Name: order_id, Length: 31729, dtype: int64"
      ]
     },
     "execution_count": 5,
     "metadata": {},
     "output_type": "execute_result"
    }
   ],
   "source": [
    "data.order_id.value_counts()\n"
   ]
  },
  {
   "cell_type": "code",
   "execution_count": null,
   "metadata": {},
   "outputs": [],
   "source": [
    "df = data.drop(columns=[\"order_id\",\"product_id\",\"order_qty\",\"agreed_delivery_date\",\"actual_delivery_date\",\"delivery_qty\"], axis=1)"
   ]
  },
  {
   "cell_type": "code",
   "execution_count": null,
   "metadata": {},
   "outputs": [],
   "source": [
    "df.head()"
   ]
  },
  {
   "cell_type": "code",
   "execution_count": null,
   "metadata": {},
   "outputs": [],
   "source": [
    "df.info()"
   ]
  },
  {
   "cell_type": "code",
   "execution_count": null,
   "metadata": {},
   "outputs": [],
   "source": [
    "df['order_placement_date'] = pd.to_datetime(df['order_placement_date'])"
   ]
  },
  {
   "cell_type": "code",
   "execution_count": null,
   "metadata": {},
   "outputs": [],
   "source": [
    "df['789101'].groupby('order_placement_date')['In Full'].aggregate(np.average)"
   ]
  },
  {
   "cell_type": "code",
   "execution_count": null,
   "metadata": {},
   "outputs": [],
   "source": []
  },
  {
   "cell_type": "code",
   "execution_count": null,
   "metadata": {},
   "outputs": [],
   "source": [
    "a = list(df[\"customer_id\"].unique())\n",
    "a.sort()\n",
    "a"
   ]
  },
  {
   "cell_type": "code",
   "execution_count": null,
   "metadata": {},
   "outputs": [],
   "source": [
    "df2 = df.copy()"
   ]
  },
  {
   "cell_type": "code",
   "execution_count": null,
   "metadata": {},
   "outputs": [],
   "source": [
    "x = df[df[\"customer_id\"]==a[0]]\n",
    "\n",
    "y = x.groupby(\"order_placement_date\")[[\"In Full\",\"On Time\",\"On Time In Full\"]].aggregate(np.average)\n",
    "y.index"
   ]
  },
  {
   "cell_type": "code",
   "execution_count": null,
   "metadata": {},
   "outputs": [],
   "source": [
    "\n",
    "results = pd.DataFrame({\n",
    "        'customer_id':[],\n",
    "        \"order_placement_date\":[],\n",
    "        \"InFull\":[],\n",
    "        \"OnTime\":[],\n",
    "        \"OnTimeInFull\":[],\n",
    "        \"TargetInFull\":[],\n",
    "        \"TargetOnTime\":[],\n",
    "        \"TargetOnTimeInFull\":[]\n",
    "        })"
   ]
  },
  {
   "cell_type": "code",
   "execution_count": null,
   "metadata": {},
   "outputs": [],
   "source": [
    "df.nunique()"
   ]
  },
  {
   "cell_type": "code",
   "execution_count": null,
   "metadata": {},
   "outputs": [],
   "source": [
    "pd.Series(data2[data2['customer_id'] == a[0]]['ontime_target%'].values)"
   ]
  },
  {
   "cell_type": "code",
   "execution_count": null,
   "metadata": {},
   "outputs": [],
   "source": [
    "def transformData(df, a, results):\n",
    "    for i in a:\n",
    "        output = pd.DataFrame({\n",
    "        'customer_id':[],\n",
    "        \"order_placement_date\":[],\n",
    "        \"InFull\":[],\n",
    "        \"OnTime\":[],\n",
    "        \"OnTimeInFull\":[],\n",
    "        \"TargetInFull\":[],\n",
    "        \"TargetOnTime\":[],\n",
    "        \"TargetOnTimeInFull\":[]\n",
    "        })\n",
    "        x = df[df[\"customer_id\"]==i]\n",
    "        y = x.groupby(\"order_placement_date\")[[\"In Full\",\"On Time\",\"On Time In Full\"]].aggregate(np.average)\n",
    "        output[\"order_placement_date\"] = pd.Series(y.index)\n",
    "        output['InFull'] = pd.Series(y['In Full'].values)*100\n",
    "        output['OnTime'] = pd.Series(y['On Time'].values)*100\n",
    "        output['OnTimeInFull'] = pd.Series(y['On Time In Full'].values)*100\n",
    "        output['TargetInFull'] = data2[data2['customer_id'] == i ]['ontime_target%'].values[0]\n",
    "        output['TargetOnTime'] = data2[data2['customer_id'] == i ]['infull_target%'].values[0]\n",
    "        output['TargetOnTimeInFull'] = data2[data2['customer_id'] == i ]['otif_target%'].values[0]\n",
    "        output[\"customer_id\"] = i\n",
    "        print(output.shape)\n",
    "        print(results.shape)\n",
    "        results = pd.concat([results,output],ignore_index=True)\n",
    "    # results.sort_values([\"customer_id\",\"order_placement_date\"],axis=1,inplace=True)\n",
    "    return results\n"
   ]
  },
  {
   "cell_type": "code",
   "execution_count": null,
   "metadata": {},
   "outputs": [],
   "source": [
    "\n",
    "kpi = transformData(df=df,a=a,results=results)"
   ]
  },
  {
   "cell_type": "code",
   "execution_count": null,
   "metadata": {},
   "outputs": [],
   "source": [
    "pd.set_option('display.max_rows', 500)"
   ]
  },
  {
   "cell_type": "code",
   "execution_count": null,
   "metadata": {},
   "outputs": [],
   "source": [
    "kpi.head(200)"
   ]
  },
  {
   "cell_type": "code",
   "execution_count": null,
   "metadata": {},
   "outputs": [],
   "source": [
    "kpi.value_counts()"
   ]
  },
  {
   "cell_type": "code",
   "execution_count": null,
   "metadata": {},
   "outputs": [],
   "source": [
    "kpi.to_csv(\"C:\\\\Users\\\\lappy\\\\Desktop\\\\ali\\\\Power BI\\\\Supply Chain Challenge\\\\kpi.csv\",index=False)"
   ]
  }
 ],
 "metadata": {
  "kernelspec": {
   "display_name": "Python 3.10.6 ('aliWork')",
   "language": "python",
   "name": "python3"
  },
  "language_info": {
   "codemirror_mode": {
    "name": "ipython",
    "version": 3
   },
   "file_extension": ".py",
   "mimetype": "text/x-python",
   "name": "python",
   "nbconvert_exporter": "python",
   "pygments_lexer": "ipython3",
   "version": "3.10.6"
  },
  "orig_nbformat": 4,
  "vscode": {
   "interpreter": {
    "hash": "b2331ba072fd2fd56947f3c8f2774db790e5d9d723d9f4952e1ec40084aca417"
   }
  }
 },
 "nbformat": 4,
 "nbformat_minor": 2
}
